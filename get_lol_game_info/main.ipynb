{
 "cells": [
  {
   "cell_type": "code",
   "execution_count": 1,
   "metadata": {},
   "outputs": [
    {
     "name": "stdout",
     "output_type": "stream",
     "text": [
      "Timed out waiting for element with text 'Worlds Main Event 2023  ' to appear on the page\n",
      "Timed out waiting for element with text 'Worlds Main Event 2023  ' to appear on the page\n"
     ]
    }
   ],
   "source": [
    "import get_game_info\n",
    "get_game_info.get_lol_game_info()"
   ]
  },
  {
   "cell_type": "code",
   "execution_count": null,
   "metadata": {},
   "outputs": [],
   "source": [
    "###### 目前只爬到game1"
   ]
  },
  {
   "cell_type": "code",
   "execution_count": 1,
   "metadata": {},
   "outputs": [
    {
     "data": {
      "text/plain": [
       "['https://gol.gg/tournament/tournament-matchlist/Battle of the Atlantic 2013/',\n",
       " 'https://gol.gg/tournament/tournament-matchlist/Season 3 World Championship/']"
      ]
     },
     "execution_count": 1,
     "metadata": {},
     "output_type": "execute_result"
    }
   ],
   "source": [
    "import get_game_info\n",
    "get_game_info.get_Tournaments_link(\"link-S3\")"
   ]
  },
  {
   "cell_type": "code",
   "execution_count": 3,
   "metadata": {},
   "outputs": [
    {
     "name": "stdout",
     "output_type": "stream",
     "text": [
      "Timed out waiting for element with text 'Worlds Main Event 2023  ' to appear on the page\n"
     ]
    },
    {
     "data": {
      "text/plain": [
       "['1083', '1081', '1079', '1077', '1075']"
      ]
     },
     "execution_count": 3,
     "metadata": {},
     "output_type": "execute_result"
    }
   ],
   "source": [
    "get_game_info.get_gamelist1Tournament('https://gol.gg/tournament/tournament-matchlist/Battle of the Atlantic 2013/')"
   ]
  },
  {
   "cell_type": "code",
   "execution_count": null,
   "metadata": {},
   "outputs": [],
   "source": []
  }
 ],
 "metadata": {
  "kernelspec": {
   "display_name": "base",
   "language": "python",
   "name": "python3"
  },
  "language_info": {
   "codemirror_mode": {
    "name": "ipython",
    "version": 3
   },
   "file_extension": ".py",
   "mimetype": "text/x-python",
   "name": "python",
   "nbconvert_exporter": "python",
   "pygments_lexer": "ipython3",
   "version": "3.9.7"
  }
 },
 "nbformat": 4,
 "nbformat_minor": 2
}
