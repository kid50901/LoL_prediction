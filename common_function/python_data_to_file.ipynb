{
 "cells": [
  {
   "cell_type": "code",
   "execution_count": 2,
   "metadata": {},
   "outputs": [
    {
     "name": "stdout",
     "output_type": "stream",
     "text": [
      "JSON file 'output.json' create success\n"
     ]
    }
   ],
   "source": [
    "import json\n",
    "\n",
    "def list_to_json(my_list,json_file):\n",
    "    # 使用 json.dump 将列表写入 JSON 文件\n",
    "    with open(json_file, 'w') as file:\n",
    "        json.dump(my_list, file)\n",
    "\n",
    "    print(f\"JSON file '{json_file}' create success\")\n",
    "# 要导出为 JSON 文件的列表\n",
    "my_list = [[1,2] , [3,4], [5,6]]\n",
    "\n",
    "# 指定输出的文件名\n",
    "json_file = \"output.json\"\n",
    "\n",
    "list_to_json(my_list,json_file)"
   ]
  },
  {
   "cell_type": "code",
   "execution_count": null,
   "metadata": {},
   "outputs": [],
   "source": [
    "import json\n",
    "\n",
    "# 指定要读取的 JSON 文件名\n",
    "json_file = \"input.json\"\n",
    "\n",
    "# 使用 json.load 读取 JSON 文件\n",
    "with open(json_file, 'r') as file:\n",
    "    data = json.load(file)"
   ]
  }
 ],
 "metadata": {
  "kernelspec": {
   "display_name": "base",
   "language": "python",
   "name": "python3"
  },
  "language_info": {
   "codemirror_mode": {
    "name": "ipython",
    "version": 3
   },
   "file_extension": ".py",
   "mimetype": "text/x-python",
   "name": "python",
   "nbconvert_exporter": "python",
   "pygments_lexer": "ipython3",
   "version": "3.9.7"
  }
 },
 "nbformat": 4,
 "nbformat_minor": 2
}
